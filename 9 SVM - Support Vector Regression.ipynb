{
 "cells": [
  {
   "cell_type": "markdown",
   "id": "c452a56a",
   "metadata": {},
   "source": [
    "# Support Vector Regressor Implementation"
   ]
  },
  {
   "cell_type": "code",
   "execution_count": 1,
   "id": "ed413f75",
   "metadata": {},
   "outputs": [],
   "source": [
    "import pandas as pd\n",
    "import seaborn as sns\n",
    "import matplotlib.pyplot as plt"
   ]
  },
  {
   "cell_type": "markdown",
   "id": "ed6a3a44",
   "metadata": {},
   "source": [
    "#### Importing Dataset"
   ]
  },
  {
   "cell_type": "code",
   "execution_count": 2,
   "id": "bde7b430",
   "metadata": {},
   "outputs": [],
   "source": [
    "from sklearn.datasets import make_regression"
   ]
  },
  {
   "cell_type": "code",
   "execution_count": 3,
   "id": "c0a8e86d",
   "metadata": {},
   "outputs": [],
   "source": [
    "X,y = make_regression(n_samples=1000,n_features=2,n_targets=1,noise=3.0)"
   ]
  },
  {
   "cell_type": "code",
   "execution_count": 5,
   "id": "5905797b",
   "metadata": {},
   "outputs": [
    {
     "data": {
      "text/html": [
       "<div>\n",
       "<style scoped>\n",
       "    .dataframe tbody tr th:only-of-type {\n",
       "        vertical-align: middle;\n",
       "    }\n",
       "\n",
       "    .dataframe tbody tr th {\n",
       "        vertical-align: top;\n",
       "    }\n",
       "\n",
       "    .dataframe thead th {\n",
       "        text-align: right;\n",
       "    }\n",
       "</style>\n",
       "<table border=\"1\" class=\"dataframe\">\n",
       "  <thead>\n",
       "    <tr style=\"text-align: right;\">\n",
       "      <th></th>\n",
       "      <th>0</th>\n",
       "      <th>1</th>\n",
       "    </tr>\n",
       "  </thead>\n",
       "  <tbody>\n",
       "    <tr>\n",
       "      <th>0</th>\n",
       "      <td>2.128109</td>\n",
       "      <td>-0.318904</td>\n",
       "    </tr>\n",
       "    <tr>\n",
       "      <th>1</th>\n",
       "      <td>-0.952529</td>\n",
       "      <td>-0.167926</td>\n",
       "    </tr>\n",
       "    <tr>\n",
       "      <th>2</th>\n",
       "      <td>-1.338381</td>\n",
       "      <td>-0.232240</td>\n",
       "    </tr>\n",
       "    <tr>\n",
       "      <th>3</th>\n",
       "      <td>1.463754</td>\n",
       "      <td>-0.069703</td>\n",
       "    </tr>\n",
       "    <tr>\n",
       "      <th>4</th>\n",
       "      <td>-0.099120</td>\n",
       "      <td>0.463433</td>\n",
       "    </tr>\n",
       "    <tr>\n",
       "      <th>...</th>\n",
       "      <td>...</td>\n",
       "      <td>...</td>\n",
       "    </tr>\n",
       "    <tr>\n",
       "      <th>995</th>\n",
       "      <td>0.412653</td>\n",
       "      <td>-0.061864</td>\n",
       "    </tr>\n",
       "    <tr>\n",
       "      <th>996</th>\n",
       "      <td>0.308049</td>\n",
       "      <td>0.596760</td>\n",
       "    </tr>\n",
       "    <tr>\n",
       "      <th>997</th>\n",
       "      <td>-1.085697</td>\n",
       "      <td>0.379734</td>\n",
       "    </tr>\n",
       "    <tr>\n",
       "      <th>998</th>\n",
       "      <td>-0.610162</td>\n",
       "      <td>-1.408461</td>\n",
       "    </tr>\n",
       "    <tr>\n",
       "      <th>999</th>\n",
       "      <td>-1.142606</td>\n",
       "      <td>0.569277</td>\n",
       "    </tr>\n",
       "  </tbody>\n",
       "</table>\n",
       "<p>1000 rows × 2 columns</p>\n",
       "</div>"
      ],
      "text/plain": [
       "            0         1\n",
       "0    2.128109 -0.318904\n",
       "1   -0.952529 -0.167926\n",
       "2   -1.338381 -0.232240\n",
       "3    1.463754 -0.069703\n",
       "4   -0.099120  0.463433\n",
       "..        ...       ...\n",
       "995  0.412653 -0.061864\n",
       "996  0.308049  0.596760\n",
       "997 -1.085697  0.379734\n",
       "998 -0.610162 -1.408461\n",
       "999 -1.142606  0.569277\n",
       "\n",
       "[1000 rows x 2 columns]"
      ]
     },
     "execution_count": 5,
     "metadata": {},
     "output_type": "execute_result"
    }
   ],
   "source": [
    "pd.DataFrame(X)"
   ]
  },
  {
   "cell_type": "code",
   "execution_count": 6,
   "id": "2554ae89",
   "metadata": {},
   "outputs": [
    {
     "data": {
      "text/html": [
       "<div>\n",
       "<style scoped>\n",
       "    .dataframe tbody tr th:only-of-type {\n",
       "        vertical-align: middle;\n",
       "    }\n",
       "\n",
       "    .dataframe tbody tr th {\n",
       "        vertical-align: top;\n",
       "    }\n",
       "\n",
       "    .dataframe thead th {\n",
       "        text-align: right;\n",
       "    }\n",
       "</style>\n",
       "<table border=\"1\" class=\"dataframe\">\n",
       "  <thead>\n",
       "    <tr style=\"text-align: right;\">\n",
       "      <th></th>\n",
       "      <th>0</th>\n",
       "    </tr>\n",
       "  </thead>\n",
       "  <tbody>\n",
       "    <tr>\n",
       "      <th>0</th>\n",
       "      <td>121.507972</td>\n",
       "    </tr>\n",
       "    <tr>\n",
       "      <th>1</th>\n",
       "      <td>-79.246301</td>\n",
       "    </tr>\n",
       "    <tr>\n",
       "      <th>2</th>\n",
       "      <td>-115.431267</td>\n",
       "    </tr>\n",
       "    <tr>\n",
       "      <th>3</th>\n",
       "      <td>108.696197</td>\n",
       "    </tr>\n",
       "    <tr>\n",
       "      <th>4</th>\n",
       "      <td>26.475032</td>\n",
       "    </tr>\n",
       "    <tr>\n",
       "      <th>...</th>\n",
       "      <td>...</td>\n",
       "    </tr>\n",
       "    <tr>\n",
       "      <th>995</th>\n",
       "      <td>25.371407</td>\n",
       "    </tr>\n",
       "    <tr>\n",
       "      <th>996</th>\n",
       "      <td>68.197350</td>\n",
       "    </tr>\n",
       "    <tr>\n",
       "      <th>997</th>\n",
       "      <td>-52.795731</td>\n",
       "    </tr>\n",
       "    <tr>\n",
       "      <th>998</th>\n",
       "      <td>-157.689686</td>\n",
       "    </tr>\n",
       "    <tr>\n",
       "      <th>999</th>\n",
       "      <td>-31.896598</td>\n",
       "    </tr>\n",
       "  </tbody>\n",
       "</table>\n",
       "<p>1000 rows × 1 columns</p>\n",
       "</div>"
      ],
      "text/plain": [
       "              0\n",
       "0    121.507972\n",
       "1    -79.246301\n",
       "2   -115.431267\n",
       "3    108.696197\n",
       "4     26.475032\n",
       "..          ...\n",
       "995   25.371407\n",
       "996   68.197350\n",
       "997  -52.795731\n",
       "998 -157.689686\n",
       "999  -31.896598\n",
       "\n",
       "[1000 rows x 1 columns]"
      ]
     },
     "execution_count": 6,
     "metadata": {},
     "output_type": "execute_result"
    }
   ],
   "source": [
    "pd.DataFrame(y)"
   ]
  },
  {
   "cell_type": "markdown",
   "id": "8d5fe942",
   "metadata": {},
   "source": [
    "#### Scatter Plot"
   ]
  },
  {
   "cell_type": "code",
   "execution_count": 8,
   "id": "21f8981f",
   "metadata": {},
   "outputs": [
    {
     "data": {
      "text/plain": [
       "<AxesSubplot:xlabel='0', ylabel='1'>"
      ]
     },
     "execution_count": 8,
     "metadata": {},
     "output_type": "execute_result"
    },
    {
     "data": {
      "image/png": "[encoded data removed]",
      "text/plain": [
       "<Figure size 640x480 with 1 Axes>"
      ]
     },
     "metadata": {},
     "output_type": "display_data"
    }
   ],
   "source": [
    "sns.scatterplot(x=pd.DataFrame(X)[0],y=pd.DataFrame(X)[1],hue=y)"
   ]
  },
  {
   "cell_type": "markdown",
   "id": "e30d02e3",
   "metadata": {},
   "source": [
    "#### Train Test Split"
   ]
  },
  {
   "cell_type": "code",
   "execution_count": 10,
   "id": "0c22b49f",
   "metadata": {},
   "outputs": [],
   "source": [
    "from sklearn.model_selection import train_test_split\n",
    "X_train,X_test,y_train,y_test = train_test_split(X,y,test_size=0.25,random_state=10)"
   ]
  },
  {
   "cell_type": "markdown",
   "id": "2289bf02",
   "metadata": {},
   "source": [
    "#### SVR Model"
   ]
  },
  {
   "cell_type": "code",
   "execution_count": 11,
   "id": "107cbfd2",
   "metadata": {},
   "outputs": [],
   "source": [
    "from sklearn.svm import SVR"
   ]
  },
  {
   "cell_type": "code",
   "execution_count": 12,
   "id": "a0d7d9ea",
   "metadata": {},
   "outputs": [],
   "source": [
    "svr = SVR(kernel='linear')"
   ]
  },
  {
   "cell_type": "code",
   "execution_count": 13,
   "id": "87662af8",
   "metadata": {},
   "outputs": [
    {
     "data": {
      "text/plain": [
       "SVR(kernel='linear')"
      ]
     },
     "execution_count": 13,
     "metadata": {},
     "output_type": "execute_result"
    }
   ],
   "source": [
    "svr.fit(X_train,y_train)"
   ]
  },
  {
   "cell_type": "code",
   "execution_count": 14,
   "id": "1a6df8ac",
   "metadata": {},
   "outputs": [
    {
     "data": {
      "text/plain": [
       "array([[72.7190646 , 83.27743108]])"
      ]
     },
     "execution_count": 14,
     "metadata": {},
     "output_type": "execute_result"
    }
   ],
   "source": [
    "svr.coef_"
   ]
  },
  {
   "cell_type": "code",
   "execution_count": 18,
   "id": "c7abe1b7",
   "metadata": {},
   "outputs": [],
   "source": [
    "y_pred = svr.predict(X_test)"
   ]
  },
  {
   "cell_type": "markdown",
   "id": "743dd439",
   "metadata": {},
   "source": [
    "#### Accuracy"
   ]
  },
  {
   "cell_type": "code",
   "execution_count": 16,
   "id": "a5187209",
   "metadata": {},
   "outputs": [],
   "source": [
    "from sklearn.metrics import r2_score"
   ]
  },
  {
   "cell_type": "code",
   "execution_count": 19,
   "id": "22dacccd",
   "metadata": {},
   "outputs": [
    {
     "data": {
      "text/plain": [
       "0.9992784948555229"
      ]
     },
     "execution_count": 19,
     "metadata": {},
     "output_type": "execute_result"
    }
   ],
   "source": [
    "r2_score(y_test,y_pred)"
   ]
  },
  {
   "cell_type": "markdown",
   "id": "fa0bf2f6",
   "metadata": {},
   "source": [
    "### SVR - Hyperparameter Tuning"
   ]
  },
  {
   "cell_type": "code",
   "execution_count": 20,
   "id": "da4cffa5",
   "metadata": {},
   "outputs": [],
   "source": [
    "from sklearn.model_selection import GridSearchCV"
   ]
  },
  {
   "cell_type": "code",
   "execution_count": 22,
   "id": "70237967",
   "metadata": {},
   "outputs": [],
   "source": [
    "parameters = {\n",
    "    'C':[0.1,1,10,100,1000],\n",
    "    'gamma':[1,0.1,0.01,0.001,0.0001],\n",
    "    'kernel':['linear'],\n",
    "    'epsilon':[0.1,0.2,0.3]\n",
    "}"
   ]
  },
  {
   "cell_type": "code",
   "execution_count": 23,
   "id": "144f33c2",
   "metadata": {},
   "outputs": [],
   "source": [
    "grid = GridSearchCV(SVR(),param_grid=parameters,scoring='neg_mean_squared_error',refit=True,cv=5,verbose=3)"
   ]
  },
  {
   "cell_type": "code",
   "execution_count": 24,
   "id": "95d04364",
   "metadata": {},
   "outputs": [
    {
     "name": "stdout",
     "output_type": "stream",
     "text": [
      "Fitting 5 folds for each of 75 candidates, totalling 375 fits\n",
      "[CV 1/5] END C=0.1, epsilon=0.1, gamma=1, kernel=linear;, score=-3849.421 total time=   0.0s\n",
      "[CV 2/5] END C=0.1, epsilon=0.1, gamma=1, kernel=linear;, score=-4866.906 total time=   0.0s\n",
      "[CV 3/5] END C=0.1, epsilon=0.1, gamma=1, kernel=linear;, score=-4199.110 total time=   0.0s\n",
      "[CV 4/5] END C=0.1, epsilon=0.1, gamma=1, kernel=linear;, score=-3890.163 total time=   0.0s\n",
      "[CV 5/5] END C=0.1, epsilon=0.1, gamma=1, kernel=linear;, score=-4085.368 total time=   0.0s\n",
      "[CV 1/5] END C=0.1, epsilon=0.1, gamma=0.1, kernel=linear;, score=-3849.421 total time=   0.0s\n",
      "[CV 2/5] END C=0.1, epsilon=0.1, gamma=0.1, kernel=linear;, score=-4866.906 total time=   0.0s\n",
      "[CV 3/5] END C=0.1, epsilon=0.1, gamma=0.1, kernel=linear;, score=-4199.110 total time=   0.0s\n",
      "[CV 4/5] END C=0.1, epsilon=0.1, gamma=0.1, kernel=linear;, score=-3890.163 total time=   0.0s\n",
      "[CV 5/5] END C=0.1, epsilon=0.1, gamma=0.1, kernel=linear;, score=-4085.368 total time=   0.0s\n",
      "[CV 1/5] END C=0.1, epsilon=0.1, gamma=0.01, kernel=linear;, score=-3849.421 total time=   0.0s\n",
      "[CV 2/5] END C=0.1, epsilon=0.1, gamma=0.01, kernel=linear;, score=-4866.906 total time=   0.0s\n",
      "[CV 3/5] END C=0.1, epsilon=0.1, gamma=0.01, kernel=linear;, score=-4199.110 total time=   0.0s\n",
      "[CV 4/5] END C=0.1, epsilon=0.1, gamma=0.01, kernel=linear;, score=-3890.163 total time=   0.0s\n",
      "[CV 5/5] END C=0.1, epsilon=0.1, gamma=0.01, kernel=linear;, score=-4085.368 total time=   0.0s\n",
      "[CV 1/5] END C=0.1, epsilon=0.1, gamma=0.001, kernel=linear;, score=-3849.421 total time=   0.0s\n",
      "[CV 2/5] END C=0.1, epsilon=0.1, gamma=0.001, kernel=linear;, score=-4866.906 total time=   0.0s\n",
      "[CV 3/5] END C=0.1, epsilon=0.1, gamma=0.001, kernel=linear;, score=-4199.110 total time=   0.0s\n",
      "[CV 4/5] END C=0.1, epsilon=0.1, gamma=0.001, kernel=linear;, score=-3890.163 total time=   0.0s\n",
      "[CV 5/5] END C=0.1, epsilon=0.1, gamma=0.001, kernel=linear;, score=-4085.368 total time=   0.0s\n",
      "[CV 1/5] END C=0.1, epsilon=0.1, gamma=0.0001, kernel=linear;, score=-3849.421 total time=   0.0s\n",
      "[CV 2/5] END C=0.1, epsilon=0.1, gamma=0.0001, kernel=linear;, score=-4866.906 total time=   0.0s\n",
      "[CV 3/5] END C=0.1, epsilon=0.1, gamma=0.0001, kernel=linear;, score=-4199.110 total time=   0.0s\n",
      "[CV 4/5] END C=0.1, epsilon=0.1, gamma=0.0001, kernel=linear;, score=-3890.163 total time=   0.0s\n",
      "[CV 5/5] END C=0.1, epsilon=0.1, gamma=0.0001, kernel=linear;, score=-4085.368 total time=   0.0s\n",
      "[CV 1/5] END C=0.1, epsilon=0.2, gamma=1, kernel=linear;, score=-3850.361 total time=   0.0s\n",
      "[CV 2/5] END C=0.1, epsilon=0.2, gamma=1, kernel=linear;, score=-4866.628 total time=   0.0s\n",
      "[CV 3/5] END C=0.1, epsilon=0.2, gamma=1, kernel=linear;, score=-4199.307 total time=   0.0s\n",
      "[CV 4/5] END C=0.1, epsilon=0.2, gamma=1, kernel=linear;, score=-3890.163 total time=   0.0s\n",
      "[CV 5/5] END C=0.1, epsilon=0.2, gamma=1, kernel=linear;, score=-4085.404 total time=   0.0s\n",
      "[CV 1/5] END C=0.1, epsilon=0.2, gamma=0.1, kernel=linear;, score=-3850.361 total time=   0.0s\n",
      "[CV 2/5] END C=0.1, epsilon=0.2, gamma=0.1, kernel=linear;, score=-4866.628 total time=   0.0s\n",
      "[CV 3/5] END C=0.1, epsilon=0.2, gamma=0.1, kernel=linear;, score=-4199.307 total time=   0.0s\n",
      "[CV 4/5] END C=0.1, epsilon=0.2, gamma=0.1, kernel=linear;, score=-3890.163 total time=   0.0s\n",
      "[CV 5/5] END C=0.1, epsilon=0.2, gamma=0.1, kernel=linear;, score=-4085.404 total time=   0.0s\n",
      "[CV 1/5] END C=0.1, epsilon=0.2, gamma=0.01, kernel=linear;, score=-3850.361 total time=   0.0s\n",
      "[CV 2/5] END C=0.1, epsilon=0.2, gamma=0.01, kernel=linear;, score=-4866.628 total time=   0.0s\n",
      "[CV 3/5] END C=0.1, epsilon=0.2, gamma=0.01, kernel=linear;, score=-4199.307 total time=   0.0s\n",
      "[CV 4/5] END C=0.1, epsilon=0.2, gamma=0.01, kernel=linear;, score=-3890.163 total time=   0.0s\n",
      "[CV 5/5] END C=0.1, epsilon=0.2, gamma=0.01, kernel=linear;, score=-4085.404 total time=   0.0s\n",
      "[CV 1/5] END C=0.1, epsilon=0.2, gamma=0.001, kernel=linear;, score=-3850.361 total time=   0.0s\n",
      "[CV 2/5] END C=0.1, epsilon=0.2, gamma=0.001, kernel=linear;, score=-4866.628 total time=   0.0s\n",
      "[CV 3/5] END C=0.1, epsilon=0.2, gamma=0.001, kernel=linear;, score=-4199.307 total time=   0.0s\n",
      "[CV 4/5] END C=0.1, epsilon=0.2, gamma=0.001, kernel=linear;, score=-3890.163 total time=   0.0s\n",
      "[CV 5/5] END C=0.1, epsilon=0.2, gamma=0.001, kernel=linear;, score=-4085.404 total time=   0.0s\n",
      "[CV 1/5] END C=0.1, epsilon=0.2, gamma=0.0001, kernel=linear;, score=-3850.361 total time=   0.0s\n",
      "[CV 2/5] END C=0.1, epsilon=0.2, gamma=0.0001, kernel=linear;, score=-4866.628 total time=   0.0s\n",
      "[CV 3/5] END C=0.1, epsilon=0.2, gamma=0.0001, kernel=linear;, score=-4199.307 total time=   0.0s\n",
      "[CV 4/5] END C=0.1, epsilon=0.2, gamma=0.0001, kernel=linear;, score=-3890.163 total time=   0.0s\n",
      "[CV 5/5] END C=0.1, epsilon=0.2, gamma=0.0001, kernel=linear;, score=-4085.404 total time=   0.0s\n",
      "[CV 1/5] END C=0.1, epsilon=0.3, gamma=1, kernel=linear;, score=-3849.366 total time=   0.0s\n",
      "[CV 2/5] END C=0.1, epsilon=0.3, gamma=1, kernel=linear;, score=-4866.370 total time=   0.0s\n",
      "[CV 3/5] END C=0.1, epsilon=0.3, gamma=1, kernel=linear;, score=-4200.527 total time=   0.0s\n",
      "[CV 4/5] END C=0.1, epsilon=0.3, gamma=1, kernel=linear;, score=-3890.163 total time=   0.0s\n",
      "[CV 5/5] END C=0.1, epsilon=0.3, gamma=1, kernel=linear;, score=-4084.516 total time=   0.0s\n",
      "[CV 1/5] END C=0.1, epsilon=0.3, gamma=0.1, kernel=linear;, score=-3849.366 total time=   0.0s\n",
      "[CV 2/5] END C=0.1, epsilon=0.3, gamma=0.1, kernel=linear;, score=-4866.370 total time=   0.0s\n",
      "[CV 3/5] END C=0.1, epsilon=0.3, gamma=0.1, kernel=linear;, score=-4200.527 total time=   0.0s\n",
      "[CV 4/5] END C=0.1, epsilon=0.3, gamma=0.1, kernel=linear;, score=-3890.163 total time=   0.0s\n",
      "[CV 5/5] END C=0.1, epsilon=0.3, gamma=0.1, kernel=linear;, score=-4084.516 total time=   0.0s\n",
      "[CV 1/5] END C=0.1, epsilon=0.3, gamma=0.01, kernel=linear;, score=-3849.366 total time=   0.0s\n",
      "[CV 2/5] END C=0.1, epsilon=0.3, gamma=0.01, kernel=linear;, score=-4866.370 total time=   0.0s\n",
      "[CV 3/5] END C=0.1, epsilon=0.3, gamma=0.01, kernel=linear;, score=-4200.527 total time=   0.0s\n",
      "[CV 4/5] END C=0.1, epsilon=0.3, gamma=0.01, kernel=linear;, score=-3890.163 total time=   0.0s\n",
      "[CV 5/5] END C=0.1, epsilon=0.3, gamma=0.01, kernel=linear;, score=-4084.516 total time=   0.0s\n",
      "[CV 1/5] END C=0.1, epsilon=0.3, gamma=0.001, kernel=linear;, score=-3849.366 total time=   0.0s\n",
      "[CV 2/5] END C=0.1, epsilon=0.3, gamma=0.001, kernel=linear;, score=-4866.370 total time=   0.0s\n",
      "[CV 3/5] END C=0.1, epsilon=0.3, gamma=0.001, kernel=linear;, score=-4200.527 total time=   0.0s\n",
      "[CV 4/5] END C=0.1, epsilon=0.3, gamma=0.001, kernel=linear;, score=-3890.163 total time=   0.0s\n",
      "[CV 5/5] END C=0.1, epsilon=0.3, gamma=0.001, kernel=linear;, score=-4084.516 total time=   0.0s\n",
      "[CV 1/5] END C=0.1, epsilon=0.3, gamma=0.0001, kernel=linear;, score=-3849.366 total time=   0.0s\n",
      "[CV 2/5] END C=0.1, epsilon=0.3, gamma=0.0001, kernel=linear;, score=-4866.370 total time=   0.0s\n",
      "[CV 3/5] END C=0.1, epsilon=0.3, gamma=0.0001, kernel=linear;, score=-4200.527 total time=   0.0s\n",
      "[CV 4/5] END C=0.1, epsilon=0.3, gamma=0.0001, kernel=linear;, score=-3890.163 total time=   0.0s\n",
      "[CV 5/5] END C=0.1, epsilon=0.3, gamma=0.0001, kernel=linear;, score=-4084.516 total time=   0.0s\n",
      "[CV 1/5] END C=1, epsilon=0.1, gamma=1, kernel=linear;, score=-11.582 total time=   0.0s\n",
      "[CV 2/5] END C=1, epsilon=0.1, gamma=1, kernel=linear;, score=-10.083 total time=   0.0s\n",
      "[CV 3/5] END C=1, epsilon=0.1, gamma=1, kernel=linear;, score=-9.276 total time=   0.0s\n",
      "[CV 4/5] END C=1, epsilon=0.1, gamma=1, kernel=linear;, score=-8.763 total time=   0.0s\n",
      "[CV 5/5] END C=1, epsilon=0.1, gamma=1, kernel=linear;, score=-11.156 total time=   0.0s\n",
      "[CV 1/5] END C=1, epsilon=0.1, gamma=0.1, kernel=linear;, score=-11.582 total time=   0.0s\n",
      "[CV 2/5] END C=1, epsilon=0.1, gamma=0.1, kernel=linear;, score=-10.083 total time=   0.0s\n",
      "[CV 3/5] END C=1, epsilon=0.1, gamma=0.1, kernel=linear;, score=-9.276 total time=   0.0s\n",
      "[CV 4/5] END C=1, epsilon=0.1, gamma=0.1, kernel=linear;, score=-8.763 total time=   0.0s\n",
      "[CV 5/5] END C=1, epsilon=0.1, gamma=0.1, kernel=linear;, score=-11.156 total time=   0.0s\n",
      "[CV 1/5] END C=1, epsilon=0.1, gamma=0.01, kernel=linear;, score=-11.582 total time=   0.0s\n",
      "[CV 2/5] END C=1, epsilon=0.1, gamma=0.01, kernel=linear;, score=-10.083 total time=   0.0s\n",
      "[CV 3/5] END C=1, epsilon=0.1, gamma=0.01, kernel=linear;, score=-9.276 total time=   0.0s\n",
      "[CV 4/5] END C=1, epsilon=0.1, gamma=0.01, kernel=linear;, score=-8.763 total time=   0.0s\n",
      "[CV 5/5] END C=1, epsilon=0.1, gamma=0.01, kernel=linear;, score=-11.156 total time=   0.0s\n",
      "[CV 1/5] END C=1, epsilon=0.1, gamma=0.001, kernel=linear;, score=-11.582 total time=   0.0s\n",
      "[CV 2/5] END C=1, epsilon=0.1, gamma=0.001, kernel=linear;, score=-10.083 total time=   0.0s\n",
      "[CV 3/5] END C=1, epsilon=0.1, gamma=0.001, kernel=linear;, score=-9.276 total time=   0.0s\n",
      "[CV 4/5] END C=1, epsilon=0.1, gamma=0.001, kernel=linear;, score=-8.763 total time=   0.0s\n",
      "[CV 5/5] END C=1, epsilon=0.1, gamma=0.001, kernel=linear;, score=-11.156 total time=   0.0s\n",
      "[CV 1/5] END C=1, epsilon=0.1, gamma=0.0001, kernel=linear;, score=-11.582 total time=   0.0s\n",
      "[CV 2/5] END C=1, epsilon=0.1, gamma=0.0001, kernel=linear;, score=-10.083 total time=   0.0s\n",
      "[CV 3/5] END C=1, epsilon=0.1, gamma=0.0001, kernel=linear;, score=-9.276 total time=   0.0s\n",
      "[CV 4/5] END C=1, epsilon=0.1, gamma=0.0001, kernel=linear;, score=-8.763 total time=   0.0s\n",
      "[CV 5/5] END C=1, epsilon=0.1, gamma=0.0001, kernel=linear;, score=-11.156 total time=   0.0s\n",
      "[CV 1/5] END C=1, epsilon=0.2, gamma=1, kernel=linear;, score=-11.595 total time=   0.0s\n",
      "[CV 2/5] END C=1, epsilon=0.2, gamma=1, kernel=linear;, score=-10.076 total time=   0.0s\n",
      "[CV 3/5] END C=1, epsilon=0.2, gamma=1, kernel=linear;, score=-9.207 total time=   0.0s\n",
      "[CV 4/5] END C=1, epsilon=0.2, gamma=1, kernel=linear;, score=-8.752 total time=   0.0s\n",
      "[CV 5/5] END C=1, epsilon=0.2, gamma=1, kernel=linear;, score=-11.108 total time=   0.0s\n",
      "[CV 1/5] END C=1, epsilon=0.2, gamma=0.1, kernel=linear;, score=-11.595 total time=   0.0s\n",
      "[CV 2/5] END C=1, epsilon=0.2, gamma=0.1, kernel=linear;, score=-10.076 total time=   0.0s\n",
      "[CV 3/5] END C=1, epsilon=0.2, gamma=0.1, kernel=linear;, score=-9.207 total time=   0.0s\n",
      "[CV 4/5] END C=1, epsilon=0.2, gamma=0.1, kernel=linear;, score=-8.752 total time=   0.0s\n",
      "[CV 5/5] END C=1, epsilon=0.2, gamma=0.1, kernel=linear;, score=-11.108 total time=   0.0s\n",
      "[CV 1/5] END C=1, epsilon=0.2, gamma=0.01, kernel=linear;, score=-11.595 total time=   0.0s\n",
      "[CV 2/5] END C=1, epsilon=0.2, gamma=0.01, kernel=linear;, score=-10.076 total time=   0.0s\n",
      "[CV 3/5] END C=1, epsilon=0.2, gamma=0.01, kernel=linear;, score=-9.207 total time=   0.0s\n",
      "[CV 4/5] END C=1, epsilon=0.2, gamma=0.01, kernel=linear;, score=-8.752 total time=   0.0s\n",
      "[CV 5/5] END C=1, epsilon=0.2, gamma=0.01, kernel=linear;, score=-11.108 total time=   0.0s\n",
      "[CV 1/5] END C=1, epsilon=0.2, gamma=0.001, kernel=linear;, score=-11.595 total time=   0.0s\n",
      "[CV 2/5] END C=1, epsilon=0.2, gamma=0.001, kernel=linear;, score=-10.076 total time=   0.0s\n",
      "[CV 3/5] END C=1, epsilon=0.2, gamma=0.001, kernel=linear;, score=-9.207 total time=   0.0s\n",
      "[CV 4/5] END C=1, epsilon=0.2, gamma=0.001, kernel=linear;, score=-8.752 total time=   0.0s\n",
      "[CV 5/5] END C=1, epsilon=0.2, gamma=0.001, kernel=linear;, score=-11.108 total time=   0.0s\n",
      "[CV 1/5] END C=1, epsilon=0.2, gamma=0.0001, kernel=linear;, score=-11.595 total time=   0.0s\n",
      "[CV 2/5] END C=1, epsilon=0.2, gamma=0.0001, kernel=linear;, score=-10.076 total time=   0.0s\n",
      "[CV 3/5] END C=1, epsilon=0.2, gamma=0.0001, kernel=linear;, score=-9.207 total time=   0.0s\n",
      "[CV 4/5] END C=1, epsilon=0.2, gamma=0.0001, kernel=linear;, score=-8.752 total time=   0.0s\n",
      "[CV 5/5] END C=1, epsilon=0.2, gamma=0.0001, kernel=linear;, score=-11.108 total time=   0.0s\n",
      "[CV 1/5] END C=1, epsilon=0.3, gamma=1, kernel=linear;, score=-11.601 total time=   0.0s\n",
      "[CV 2/5] END C=1, epsilon=0.3, gamma=1, kernel=linear;, score=-10.009 total time=   0.0s\n",
      "[CV 3/5] END C=1, epsilon=0.3, gamma=1, kernel=linear;, score=-9.209 total time=   0.0s\n",
      "[CV 4/5] END C=1, epsilon=0.3, gamma=1, kernel=linear;, score=-8.775 total time=   0.0s\n",
      "[CV 5/5] END C=1, epsilon=0.3, gamma=1, kernel=linear;, score=-11.128 total time=   0.0s\n",
      "[CV 1/5] END C=1, epsilon=0.3, gamma=0.1, kernel=linear;, score=-11.601 total time=   0.0s\n",
      "[CV 2/5] END C=1, epsilon=0.3, gamma=0.1, kernel=linear;, score=-10.009 total time=   0.0s\n",
      "[CV 3/5] END C=1, epsilon=0.3, gamma=0.1, kernel=linear;, score=-9.209 total time=   0.0s\n",
      "[CV 4/5] END C=1, epsilon=0.3, gamma=0.1, kernel=linear;, score=-8.775 total time=   0.0s\n",
      "[CV 5/5] END C=1, epsilon=0.3, gamma=0.1, kernel=linear;, score=-11.128 total time=   0.0s\n",
      "[CV 1/5] END C=1, epsilon=0.3, gamma=0.01, kernel=linear;, score=-11.601 total time=   0.0s\n",
      "[CV 2/5] END C=1, epsilon=0.3, gamma=0.01, kernel=linear;, score=-10.009 total time=   0.0s\n",
      "[CV 3/5] END C=1, epsilon=0.3, gamma=0.01, kernel=linear;, score=-9.209 total time=   0.0s\n",
      "[CV 4/5] END C=1, epsilon=0.3, gamma=0.01, kernel=linear;, score=-8.775 total time=   0.0s\n",
      "[CV 5/5] END C=1, epsilon=0.3, gamma=0.01, kernel=linear;, score=-11.128 total time=   0.0s\n",
      "[CV 1/5] END C=1, epsilon=0.3, gamma=0.001, kernel=linear;, score=-11.601 total time=   0.0s\n",
      "[CV 2/5] END C=1, epsilon=0.3, gamma=0.001, kernel=linear;, score=-10.009 total time=   0.0s\n",
      "[CV 3/5] END C=1, epsilon=0.3, gamma=0.001, kernel=linear;, score=-9.209 total time=   0.0s\n",
      "[CV 4/5] END C=1, epsilon=0.3, gamma=0.001, kernel=linear;, score=-8.775 total time=   0.0s\n",
      "[CV 5/5] END C=1, epsilon=0.3, gamma=0.001, kernel=linear;, score=-11.128 total time=   0.0s\n",
      "[CV 1/5] END C=1, epsilon=0.3, gamma=0.0001, kernel=linear;, score=-11.601 total time=   0.0s\n",
      "[CV 2/5] END C=1, epsilon=0.3, gamma=0.0001, kernel=linear;, score=-10.009 total time=   0.0s\n",
      "[CV 3/5] END C=1, epsilon=0.3, gamma=0.0001, kernel=linear;, score=-9.209 total time=   0.0s\n",
      "[CV 4/5] END C=1, epsilon=0.3, gamma=0.0001, kernel=linear;, score=-8.775 total time=   0.0s\n",
      "[CV 5/5] END C=1, epsilon=0.3, gamma=0.0001, kernel=linear;, score=-11.128 total time=   0.0s\n",
      "[CV 1/5] END C=10, epsilon=0.1, gamma=1, kernel=linear;, score=-10.808 total time=   0.0s\n",
      "[CV 2/5] END C=10, epsilon=0.1, gamma=1, kernel=linear;, score=-8.969 total time=   0.0s\n",
      "[CV 3/5] END C=10, epsilon=0.1, gamma=1, kernel=linear;, score=-8.854 total time=   0.0s\n",
      "[CV 4/5] END C=10, epsilon=0.1, gamma=1, kernel=linear;, score=-8.853 total time=   0.0s\n",
      "[CV 5/5] END C=10, epsilon=0.1, gamma=1, kernel=linear;, score=-10.808 total time=   0.0s\n",
      "[CV 1/5] END C=10, epsilon=0.1, gamma=0.1, kernel=linear;, score=-10.808 total time=   0.0s\n",
      "[CV 2/5] END C=10, epsilon=0.1, gamma=0.1, kernel=linear;, score=-8.969 total time=   0.0s\n",
      "[CV 3/5] END C=10, epsilon=0.1, gamma=0.1, kernel=linear;, score=-8.854 total time=   0.0s\n",
      "[CV 4/5] END C=10, epsilon=0.1, gamma=0.1, kernel=linear;, score=-8.853 total time=   0.0s\n",
      "[CV 5/5] END C=10, epsilon=0.1, gamma=0.1, kernel=linear;, score=-10.808 total time=   0.0s\n",
      "[CV 1/5] END C=10, epsilon=0.1, gamma=0.01, kernel=linear;, score=-10.808 total time=   0.0s\n",
      "[CV 2/5] END C=10, epsilon=0.1, gamma=0.01, kernel=linear;, score=-8.969 total time=   0.0s\n",
      "[CV 3/5] END C=10, epsilon=0.1, gamma=0.01, kernel=linear;, score=-8.854 total time=   0.0s\n",
      "[CV 4/5] END C=10, epsilon=0.1, gamma=0.01, kernel=linear;, score=-8.853 total time=   0.0s\n",
      "[CV 5/5] END C=10, epsilon=0.1, gamma=0.01, kernel=linear;, score=-10.808 total time=   0.0s\n",
      "[CV 1/5] END C=10, epsilon=0.1, gamma=0.001, kernel=linear;, score=-10.808 total time=   0.0s\n",
      "[CV 2/5] END C=10, epsilon=0.1, gamma=0.001, kernel=linear;, score=-8.969 total time=   0.0s\n",
      "[CV 3/5] END C=10, epsilon=0.1, gamma=0.001, kernel=linear;, score=-8.854 total time=   0.0s\n",
      "[CV 4/5] END C=10, epsilon=0.1, gamma=0.001, kernel=linear;, score=-8.853 total time=   0.0s\n",
      "[CV 5/5] END C=10, epsilon=0.1, gamma=0.001, kernel=linear;, score=-10.808 total time=   0.0s\n",
      "[CV 1/5] END C=10, epsilon=0.1, gamma=0.0001, kernel=linear;, score=-10.808 total time=   0.0s\n",
      "[CV 2/5] END C=10, epsilon=0.1, gamma=0.0001, kernel=linear;, score=-8.969 total time=   0.0s\n",
      "[CV 3/5] END C=10, epsilon=0.1, gamma=0.0001, kernel=linear;, score=-8.854 total time=   0.0s\n",
      "[CV 4/5] END C=10, epsilon=0.1, gamma=0.0001, kernel=linear;, score=-8.853 total time=   0.0s\n",
      "[CV 5/5] END C=10, epsilon=0.1, gamma=0.0001, kernel=linear;, score=-10.808 total time=   0.0s\n",
      "[CV 1/5] END C=10, epsilon=0.2, gamma=1, kernel=linear;, score=-10.787 total time=   0.0s\n",
      "[CV 2/5] END C=10, epsilon=0.2, gamma=1, kernel=linear;, score=-8.909 total time=   0.0s\n",
      "[CV 3/5] END C=10, epsilon=0.2, gamma=1, kernel=linear;, score=-8.802 total time=   0.0s\n",
      "[CV 4/5] END C=10, epsilon=0.2, gamma=1, kernel=linear;, score=-8.861 total time=   0.0s\n",
      "[CV 5/5] END C=10, epsilon=0.2, gamma=1, kernel=linear;, score=-10.799 total time=   0.0s\n",
      "[CV 1/5] END C=10, epsilon=0.2, gamma=0.1, kernel=linear;, score=-10.787 total time=   0.0s\n",
      "[CV 2/5] END C=10, epsilon=0.2, gamma=0.1, kernel=linear;, score=-8.909 total time=   0.0s\n",
      "[CV 3/5] END C=10, epsilon=0.2, gamma=0.1, kernel=linear;, score=-8.802 total time=   0.0s\n",
      "[CV 4/5] END C=10, epsilon=0.2, gamma=0.1, kernel=linear;, score=-8.861 total time=   0.0s\n",
      "[CV 5/5] END C=10, epsilon=0.2, gamma=0.1, kernel=linear;, score=-10.799 total time=   0.0s\n",
      "[CV 1/5] END C=10, epsilon=0.2, gamma=0.01, kernel=linear;, score=-10.787 total time=   0.0s\n",
      "[CV 2/5] END C=10, epsilon=0.2, gamma=0.01, kernel=linear;, score=-8.909 total time=   0.0s\n",
      "[CV 3/5] END C=10, epsilon=0.2, gamma=0.01, kernel=linear;, score=-8.802 total time=   0.0s\n",
      "[CV 4/5] END C=10, epsilon=0.2, gamma=0.01, kernel=linear;, score=-8.861 total time=   0.0s\n",
      "[CV 5/5] END C=10, epsilon=0.2, gamma=0.01, kernel=linear;, score=-10.799 total time=   0.0s\n",
      "[CV 1/5] END C=10, epsilon=0.2, gamma=0.001, kernel=linear;, score=-10.787 total time=   0.0s\n",
      "[CV 2/5] END C=10, epsilon=0.2, gamma=0.001, kernel=linear;, score=-8.909 total time=   0.0s\n",
      "[CV 3/5] END C=10, epsilon=0.2, gamma=0.001, kernel=linear;, score=-8.802 total time=   0.0s\n",
      "[CV 4/5] END C=10, epsilon=0.2, gamma=0.001, kernel=linear;, score=-8.861 total time=   0.0s\n",
      "[CV 5/5] END C=10, epsilon=0.2, gamma=0.001, kernel=linear;, score=-10.799 total time=   0.0s\n",
      "[CV 1/5] END C=10, epsilon=0.2, gamma=0.0001, kernel=linear;, score=-10.787 total time=   0.0s\n",
      "[CV 2/5] END C=10, epsilon=0.2, gamma=0.0001, kernel=linear;, score=-8.909 total time=   0.0s\n",
      "[CV 3/5] END C=10, epsilon=0.2, gamma=0.0001, kernel=linear;, score=-8.802 total time=   0.0s\n",
      "[CV 4/5] END C=10, epsilon=0.2, gamma=0.0001, kernel=linear;, score=-8.861 total time=   0.0s\n",
      "[CV 5/5] END C=10, epsilon=0.2, gamma=0.0001, kernel=linear;, score=-10.799 total time=   0.0s\n",
      "[CV 1/5] END C=10, epsilon=0.3, gamma=1, kernel=linear;, score=-10.816 total time=   0.0s\n",
      "[CV 2/5] END C=10, epsilon=0.3, gamma=1, kernel=linear;, score=-8.879 total time=   0.0s\n",
      "[CV 3/5] END C=10, epsilon=0.3, gamma=1, kernel=linear;, score=-8.798 total time=   0.0s\n",
      "[CV 4/5] END C=10, epsilon=0.3, gamma=1, kernel=linear;, score=-8.911 total time=   0.0s\n",
      "[CV 5/5] END C=10, epsilon=0.3, gamma=1, kernel=linear;, score=-10.803 total time=   0.0s\n",
      "[CV 1/5] END C=10, epsilon=0.3, gamma=0.1, kernel=linear;, score=-10.816 total time=   0.0s\n",
      "[CV 2/5] END C=10, epsilon=0.3, gamma=0.1, kernel=linear;, score=-8.879 total time=   0.0s\n",
      "[CV 3/5] END C=10, epsilon=0.3, gamma=0.1, kernel=linear;, score=-8.798 total time=   0.0s\n",
      "[CV 4/5] END C=10, epsilon=0.3, gamma=0.1, kernel=linear;, score=-8.911 total time=   0.0s\n",
      "[CV 5/5] END C=10, epsilon=0.3, gamma=0.1, kernel=linear;, score=-10.803 total time=   0.0s\n",
      "[CV 1/5] END C=10, epsilon=0.3, gamma=0.01, kernel=linear;, score=-10.816 total time=   0.0s\n",
      "[CV 2/5] END C=10, epsilon=0.3, gamma=0.01, kernel=linear;, score=-8.879 total time=   0.0s\n",
      "[CV 3/5] END C=10, epsilon=0.3, gamma=0.01, kernel=linear;, score=-8.798 total time=   0.0s\n",
      "[CV 4/5] END C=10, epsilon=0.3, gamma=0.01, kernel=linear;, score=-8.911 total time=   0.0s\n",
      "[CV 5/5] END C=10, epsilon=0.3, gamma=0.01, kernel=linear;, score=-10.803 total time=   0.0s\n",
      "[CV 1/5] END C=10, epsilon=0.3, gamma=0.001, kernel=linear;, score=-10.816 total time=   0.0s\n",
      "[CV 2/5] END C=10, epsilon=0.3, gamma=0.001, kernel=linear;, score=-8.879 total time=   0.0s\n",
      "[CV 3/5] END C=10, epsilon=0.3, gamma=0.001, kernel=linear;, score=-8.798 total time=   0.0s\n",
      "[CV 4/5] END C=10, epsilon=0.3, gamma=0.001, kernel=linear;, score=-8.911 total time=   0.0s\n",
      "[CV 5/5] END C=10, epsilon=0.3, gamma=0.001, kernel=linear;, score=-10.803 total time=   0.0s\n",
      "[CV 1/5] END C=10, epsilon=0.3, gamma=0.0001, kernel=linear;, score=-10.816 total time=   0.0s\n",
      "[CV 2/5] END C=10, epsilon=0.3, gamma=0.0001, kernel=linear;, score=-8.879 total time=   0.0s\n",
      "[CV 3/5] END C=10, epsilon=0.3, gamma=0.0001, kernel=linear;, score=-8.798 total time=   0.0s\n",
      "[CV 4/5] END C=10, epsilon=0.3, gamma=0.0001, kernel=linear;, score=-8.911 total time=   0.0s\n",
      "[CV 5/5] END C=10, epsilon=0.3, gamma=0.0001, kernel=linear;, score=-10.803 total time=   0.0s\n",
      "[CV 1/5] END C=100, epsilon=0.1, gamma=1, kernel=linear;, score=-10.775 total time=   0.0s\n",
      "[CV 2/5] END C=100, epsilon=0.1, gamma=1, kernel=linear;, score=-8.855 total time=   0.0s\n",
      "[CV 3/5] END C=100, epsilon=0.1, gamma=1, kernel=linear;, score=-8.858 total time=   0.0s\n",
      "[CV 4/5] END C=100, epsilon=0.1, gamma=1, kernel=linear;, score=-8.918 total time=   0.0s\n",
      "[CV 5/5] END C=100, epsilon=0.1, gamma=1, kernel=linear;, score=-10.829 total time=   0.0s\n",
      "[CV 1/5] END C=100, epsilon=0.1, gamma=0.1, kernel=linear;, score=-10.775 total time=   0.0s\n",
      "[CV 2/5] END C=100, epsilon=0.1, gamma=0.1, kernel=linear;, score=-8.855 total time=   0.0s\n",
      "[CV 3/5] END C=100, epsilon=0.1, gamma=0.1, kernel=linear;, score=-8.858 total time=   0.0s\n",
      "[CV 4/5] END C=100, epsilon=0.1, gamma=0.1, kernel=linear;, score=-8.918 total time=   0.0s\n",
      "[CV 5/5] END C=100, epsilon=0.1, gamma=0.1, kernel=linear;, score=-10.829 total time=   0.0s\n",
      "[CV 1/5] END C=100, epsilon=0.1, gamma=0.01, kernel=linear;, score=-10.775 total time=   0.0s\n",
      "[CV 2/5] END C=100, epsilon=0.1, gamma=0.01, kernel=linear;, score=-8.855 total time=   0.0s\n",
      "[CV 3/5] END C=100, epsilon=0.1, gamma=0.01, kernel=linear;, score=-8.858 total time=   0.0s\n",
      "[CV 4/5] END C=100, epsilon=0.1, gamma=0.01, kernel=linear;, score=-8.918 total time=   0.0s\n",
      "[CV 5/5] END C=100, epsilon=0.1, gamma=0.01, kernel=linear;, score=-10.829 total time=   0.0s\n",
      "[CV 1/5] END C=100, epsilon=0.1, gamma=0.001, kernel=linear;, score=-10.775 total time=   0.0s\n",
      "[CV 2/5] END C=100, epsilon=0.1, gamma=0.001, kernel=linear;, score=-8.855 total time=   0.0s\n",
      "[CV 3/5] END C=100, epsilon=0.1, gamma=0.001, kernel=linear;, score=-8.858 total time=   0.0s\n",
      "[CV 4/5] END C=100, epsilon=0.1, gamma=0.001, kernel=linear;, score=-8.918 total time=   0.0s\n",
      "[CV 5/5] END C=100, epsilon=0.1, gamma=0.001, kernel=linear;, score=-10.829 total time=   0.0s\n",
      "[CV 1/5] END C=100, epsilon=0.1, gamma=0.0001, kernel=linear;, score=-10.775 total time=   0.0s\n",
      "[CV 2/5] END C=100, epsilon=0.1, gamma=0.0001, kernel=linear;, score=-8.855 total time=   0.0s\n",
      "[CV 3/5] END C=100, epsilon=0.1, gamma=0.0001, kernel=linear;, score=-8.858 total time=   0.0s\n",
      "[CV 4/5] END C=100, epsilon=0.1, gamma=0.0001, kernel=linear;, score=-8.918 total time=   0.0s\n",
      "[CV 5/5] END C=100, epsilon=0.1, gamma=0.0001, kernel=linear;, score=-10.829 total time=   0.0s\n",
      "[CV 1/5] END C=100, epsilon=0.2, gamma=1, kernel=linear;, score=-10.759 total time=   0.0s\n",
      "[CV 2/5] END C=100, epsilon=0.2, gamma=1, kernel=linear;, score=-8.831 total time=   0.0s\n",
      "[CV 3/5] END C=100, epsilon=0.2, gamma=1, kernel=linear;, score=-8.785 total time=   0.0s\n",
      "[CV 4/5] END C=100, epsilon=0.2, gamma=1, kernel=linear;, score=-8.899 total time=   0.0s\n",
      "[CV 5/5] END C=100, epsilon=0.2, gamma=1, kernel=linear;, score=-10.806 total time=   0.0s\n",
      "[CV 1/5] END C=100, epsilon=0.2, gamma=0.1, kernel=linear;, score=-10.759 total time=   0.0s\n",
      "[CV 2/5] END C=100, epsilon=0.2, gamma=0.1, kernel=linear;, score=-8.831 total time=   0.0s\n",
      "[CV 3/5] END C=100, epsilon=0.2, gamma=0.1, kernel=linear;, score=-8.785 total time=   0.0s\n",
      "[CV 4/5] END C=100, epsilon=0.2, gamma=0.1, kernel=linear;, score=-8.899 total time=   0.0s\n",
      "[CV 5/5] END C=100, epsilon=0.2, gamma=0.1, kernel=linear;, score=-10.806 total time=   0.0s\n",
      "[CV 1/5] END C=100, epsilon=0.2, gamma=0.01, kernel=linear;, score=-10.759 total time=   0.0s\n",
      "[CV 2/5] END C=100, epsilon=0.2, gamma=0.01, kernel=linear;, score=-8.831 total time=   0.0s\n",
      "[CV 3/5] END C=100, epsilon=0.2, gamma=0.01, kernel=linear;, score=-8.785 total time=   0.0s\n",
      "[CV 4/5] END C=100, epsilon=0.2, gamma=0.01, kernel=linear;, score=-8.899 total time=   0.0s\n",
      "[CV 5/5] END C=100, epsilon=0.2, gamma=0.01, kernel=linear;, score=-10.806 total time=   0.0s\n",
      "[CV 1/5] END C=100, epsilon=0.2, gamma=0.001, kernel=linear;, score=-10.759 total time=   0.0s\n",
      "[CV 2/5] END C=100, epsilon=0.2, gamma=0.001, kernel=linear;, score=-8.831 total time=   0.0s\n",
      "[CV 3/5] END C=100, epsilon=0.2, gamma=0.001, kernel=linear;, score=-8.785 total time=   0.0s\n",
      "[CV 4/5] END C=100, epsilon=0.2, gamma=0.001, kernel=linear;, score=-8.899 total time=   0.0s\n",
      "[CV 5/5] END C=100, epsilon=0.2, gamma=0.001, kernel=linear;, score=-10.806 total time=   0.0s\n",
      "[CV 1/5] END C=100, epsilon=0.2, gamma=0.0001, kernel=linear;, score=-10.759 total time=   0.0s\n",
      "[CV 2/5] END C=100, epsilon=0.2, gamma=0.0001, kernel=linear;, score=-8.831 total time=   0.0s\n",
      "[CV 3/5] END C=100, epsilon=0.2, gamma=0.0001, kernel=linear;, score=-8.785 total time=   0.0s\n",
      "[CV 4/5] END C=100, epsilon=0.2, gamma=0.0001, kernel=linear;, score=-8.899 total time=   0.0s\n",
      "[CV 5/5] END C=100, epsilon=0.2, gamma=0.0001, kernel=linear;, score=-10.806 total time=   0.0s\n",
      "[CV 1/5] END C=100, epsilon=0.3, gamma=1, kernel=linear;, score=-10.728 total time=   0.0s\n",
      "[CV 2/5] END C=100, epsilon=0.3, gamma=1, kernel=linear;, score=-8.815 total time=   0.0s\n",
      "[CV 3/5] END C=100, epsilon=0.3, gamma=1, kernel=linear;, score=-8.780 total time=   0.0s\n",
      "[CV 4/5] END C=100, epsilon=0.3, gamma=1, kernel=linear;, score=-8.961 total time=   0.0s\n",
      "[CV 5/5] END C=100, epsilon=0.3, gamma=1, kernel=linear;, score=-10.807 total time=   0.0s\n",
      "[CV 1/5] END C=100, epsilon=0.3, gamma=0.1, kernel=linear;, score=-10.728 total time=   0.0s\n",
      "[CV 2/5] END C=100, epsilon=0.3, gamma=0.1, kernel=linear;, score=-8.815 total time=   0.0s\n",
      "[CV 3/5] END C=100, epsilon=0.3, gamma=0.1, kernel=linear;, score=-8.780 total time=   0.0s\n",
      "[CV 4/5] END C=100, epsilon=0.3, gamma=0.1, kernel=linear;, score=-8.961 total time=   0.0s\n",
      "[CV 5/5] END C=100, epsilon=0.3, gamma=0.1, kernel=linear;, score=-10.807 total time=   0.0s\n",
      "[CV 1/5] END C=100, epsilon=0.3, gamma=0.01, kernel=linear;, score=-10.728 total time=   0.0s\n",
      "[CV 2/5] END C=100, epsilon=0.3, gamma=0.01, kernel=linear;, score=-8.815 total time=   0.0s\n",
      "[CV 3/5] END C=100, epsilon=0.3, gamma=0.01, kernel=linear;, score=-8.780 total time=   0.0s\n",
      "[CV 4/5] END C=100, epsilon=0.3, gamma=0.01, kernel=linear;, score=-8.961 total time=   0.0s\n",
      "[CV 5/5] END C=100, epsilon=0.3, gamma=0.01, kernel=linear;, score=-10.807 total time=   0.0s\n",
      "[CV 1/5] END C=100, epsilon=0.3, gamma=0.001, kernel=linear;, score=-10.728 total time=   0.0s\n",
      "[CV 2/5] END C=100, epsilon=0.3, gamma=0.001, kernel=linear;, score=-8.815 total time=   0.0s\n",
      "[CV 3/5] END C=100, epsilon=0.3, gamma=0.001, kernel=linear;, score=-8.780 total time=   0.0s\n",
      "[CV 4/5] END C=100, epsilon=0.3, gamma=0.001, kernel=linear;, score=-8.961 total time=   0.0s\n",
      "[CV 5/5] END C=100, epsilon=0.3, gamma=0.001, kernel=linear;, score=-10.807 total time=   0.0s\n",
      "[CV 1/5] END C=100, epsilon=0.3, gamma=0.0001, kernel=linear;, score=-10.728 total time=   0.0s\n",
      "[CV 2/5] END C=100, epsilon=0.3, gamma=0.0001, kernel=linear;, score=-8.815 total time=   0.0s\n",
      "[CV 3/5] END C=100, epsilon=0.3, gamma=0.0001, kernel=linear;, score=-8.780 total time=   0.0s\n",
      "[CV 4/5] END C=100, epsilon=0.3, gamma=0.0001, kernel=linear;, score=-8.961 total time=   0.0s\n",
      "[CV 5/5] END C=100, epsilon=0.3, gamma=0.0001, kernel=linear;, score=-10.807 total time=   0.0s\n",
      "[CV 1/5] END C=1000, epsilon=0.1, gamma=1, kernel=linear;, score=-10.775 total time=   0.5s\n",
      "[CV 2/5] END C=1000, epsilon=0.1, gamma=1, kernel=linear;, score=-8.817 total time=   0.4s\n",
      "[CV 3/5] END C=1000, epsilon=0.1, gamma=1, kernel=linear;, score=-8.857 total time=   0.4s\n",
      "[CV 4/5] END C=1000, epsilon=0.1, gamma=1, kernel=linear;, score=-8.942 total time=   0.4s\n",
      "[CV 5/5] END C=1000, epsilon=0.1, gamma=1, kernel=linear;, score=-10.847 total time=   0.3s\n",
      "[CV 1/5] END C=1000, epsilon=0.1, gamma=0.1, kernel=linear;, score=-10.775 total time=   0.5s\n",
      "[CV 2/5] END C=1000, epsilon=0.1, gamma=0.1, kernel=linear;, score=-8.817 total time=   0.4s\n",
      "[CV 3/5] END C=1000, epsilon=0.1, gamma=0.1, kernel=linear;, score=-8.857 total time=   0.5s\n",
      "[CV 4/5] END C=1000, epsilon=0.1, gamma=0.1, kernel=linear;, score=-8.942 total time=   0.3s\n",
      "[CV 5/5] END C=1000, epsilon=0.1, gamma=0.1, kernel=linear;, score=-10.847 total time=   0.3s\n",
      "[CV 1/5] END C=1000, epsilon=0.1, gamma=0.01, kernel=linear;, score=-10.775 total time=   0.4s\n",
      "[CV 2/5] END C=1000, epsilon=0.1, gamma=0.01, kernel=linear;, score=-8.817 total time=   0.5s\n",
      "[CV 3/5] END C=1000, epsilon=0.1, gamma=0.01, kernel=linear;, score=-8.857 total time=   0.5s\n",
      "[CV 4/5] END C=1000, epsilon=0.1, gamma=0.01, kernel=linear;, score=-8.942 total time=   0.4s\n",
      "[CV 5/5] END C=1000, epsilon=0.1, gamma=0.01, kernel=linear;, score=-10.847 total time=   0.4s\n",
      "[CV 1/5] END C=1000, epsilon=0.1, gamma=0.001, kernel=linear;, score=-10.775 total time=   0.5s\n",
      "[CV 2/5] END C=1000, epsilon=0.1, gamma=0.001, kernel=linear;, score=-8.817 total time=   0.4s\n",
      "[CV 3/5] END C=1000, epsilon=0.1, gamma=0.001, kernel=linear;, score=-8.857 total time=   0.5s\n",
      "[CV 4/5] END C=1000, epsilon=0.1, gamma=0.001, kernel=linear;, score=-8.942 total time=   0.4s\n",
      "[CV 5/5] END C=1000, epsilon=0.1, gamma=0.001, kernel=linear;, score=-10.847 total time=   0.4s\n",
      "[CV 1/5] END C=1000, epsilon=0.1, gamma=0.0001, kernel=linear;, score=-10.775 total time=   0.5s\n",
      "[CV 2/5] END C=1000, epsilon=0.1, gamma=0.0001, kernel=linear;, score=-8.817 total time=   0.5s\n",
      "[CV 3/5] END C=1000, epsilon=0.1, gamma=0.0001, kernel=linear;, score=-8.857 total time=   0.6s\n",
      "[CV 4/5] END C=1000, epsilon=0.1, gamma=0.0001, kernel=linear;, score=-8.942 total time=   0.4s\n",
      "[CV 5/5] END C=1000, epsilon=0.1, gamma=0.0001, kernel=linear;, score=-10.847 total time=   0.4s\n",
      "[CV 1/5] END C=1000, epsilon=0.2, gamma=1, kernel=linear;, score=-10.758 total time=   0.6s\n",
      "[CV 2/5] END C=1000, epsilon=0.2, gamma=1, kernel=linear;, score=-8.832 total time=   0.5s\n",
      "[CV 3/5] END C=1000, epsilon=0.2, gamma=1, kernel=linear;, score=-8.795 total time=   0.5s\n",
      "[CV 4/5] END C=1000, epsilon=0.2, gamma=1, kernel=linear;, score=-8.895 total time=   0.5s\n",
      "[CV 5/5] END C=1000, epsilon=0.2, gamma=1, kernel=linear;, score=-10.806 total time=   0.6s\n",
      "[CV 1/5] END C=1000, epsilon=0.2, gamma=0.1, kernel=linear;, score=-10.758 total time=   0.8s\n",
      "[CV 2/5] END C=1000, epsilon=0.2, gamma=0.1, kernel=linear;, score=-8.832 total time=   0.5s\n",
      "[CV 3/5] END C=1000, epsilon=0.2, gamma=0.1, kernel=linear;, score=-8.795 total time=   0.5s\n",
      "[CV 4/5] END C=1000, epsilon=0.2, gamma=0.1, kernel=linear;, score=-8.895 total time=   0.7s\n",
      "[CV 5/5] END C=1000, epsilon=0.2, gamma=0.1, kernel=linear;, score=-10.806 total time=   0.5s\n",
      "[CV 1/5] END C=1000, epsilon=0.2, gamma=0.01, kernel=linear;, score=-10.758 total time=   0.7s\n",
      "[CV 2/5] END C=1000, epsilon=0.2, gamma=0.01, kernel=linear;, score=-8.832 total time=   0.5s\n",
      "[CV 3/5] END C=1000, epsilon=0.2, gamma=0.01, kernel=linear;, score=-8.795 total time=   0.5s\n",
      "[CV 4/5] END C=1000, epsilon=0.2, gamma=0.01, kernel=linear;, score=-8.895 total time=   0.5s\n",
      "[CV 5/5] END C=1000, epsilon=0.2, gamma=0.01, kernel=linear;, score=-10.806 total time=   0.5s\n",
      "[CV 1/5] END C=1000, epsilon=0.2, gamma=0.001, kernel=linear;, score=-10.758 total time=   0.7s\n",
      "[CV 2/5] END C=1000, epsilon=0.2, gamma=0.001, kernel=linear;, score=-8.832 total time=   0.5s\n",
      "[CV 3/5] END C=1000, epsilon=0.2, gamma=0.001, kernel=linear;, score=-8.795 total time=   0.5s\n",
      "[CV 4/5] END C=1000, epsilon=0.2, gamma=0.001, kernel=linear;, score=-8.895 total time=   0.5s\n",
      "[CV 5/5] END C=1000, epsilon=0.2, gamma=0.001, kernel=linear;, score=-10.806 total time=   0.5s\n",
      "[CV 1/5] END C=1000, epsilon=0.2, gamma=0.0001, kernel=linear;, score=-10.758 total time=   0.6s\n",
      "[CV 2/5] END C=1000, epsilon=0.2, gamma=0.0001, kernel=linear;, score=-8.832 total time=   0.5s\n",
      "[CV 3/5] END C=1000, epsilon=0.2, gamma=0.0001, kernel=linear;, score=-8.795 total time=   0.4s\n",
      "[CV 4/5] END C=1000, epsilon=0.2, gamma=0.0001, kernel=linear;, score=-8.895 total time=   0.4s\n",
      "[CV 5/5] END C=1000, epsilon=0.2, gamma=0.0001, kernel=linear;, score=-10.806 total time=   0.4s\n",
      "[CV 1/5] END C=1000, epsilon=0.3, gamma=1, kernel=linear;, score=-10.733 total time=   0.4s\n",
      "[CV 2/5] END C=1000, epsilon=0.3, gamma=1, kernel=linear;, score=-8.805 total time=   0.4s\n",
      "[CV 3/5] END C=1000, epsilon=0.3, gamma=1, kernel=linear;, score=-8.781 total time=   0.4s\n",
      "[CV 4/5] END C=1000, epsilon=0.3, gamma=1, kernel=linear;, score=-8.963 total time=   0.5s\n",
      "[CV 5/5] END C=1000, epsilon=0.3, gamma=1, kernel=linear;, score=-10.807 total time=   0.4s\n",
      "[CV 1/5] END C=1000, epsilon=0.3, gamma=0.1, kernel=linear;, score=-10.733 total time=   0.4s\n",
      "[CV 2/5] END C=1000, epsilon=0.3, gamma=0.1, kernel=linear;, score=-8.805 total time=   0.4s\n",
      "[CV 3/5] END C=1000, epsilon=0.3, gamma=0.1, kernel=linear;, score=-8.781 total time=   0.4s\n",
      "[CV 4/5] END C=1000, epsilon=0.3, gamma=0.1, kernel=linear;, score=-8.963 total time=   0.5s\n",
      "[CV 5/5] END C=1000, epsilon=0.3, gamma=0.1, kernel=linear;, score=-10.807 total time=   0.4s\n",
      "[CV 1/5] END C=1000, epsilon=0.3, gamma=0.01, kernel=linear;, score=-10.733 total time=   0.4s\n",
      "[CV 2/5] END C=1000, epsilon=0.3, gamma=0.01, kernel=linear;, score=-8.805 total time=   0.4s\n",
      "[CV 3/5] END C=1000, epsilon=0.3, gamma=0.01, kernel=linear;, score=-8.781 total time=   0.4s\n",
      "[CV 4/5] END C=1000, epsilon=0.3, gamma=0.01, kernel=linear;, score=-8.963 total time=   0.5s\n",
      "[CV 5/5] END C=1000, epsilon=0.3, gamma=0.01, kernel=linear;, score=-10.807 total time=   0.3s\n",
      "[CV 1/5] END C=1000, epsilon=0.3, gamma=0.001, kernel=linear;, score=-10.733 total time=   0.4s\n",
      "[CV 2/5] END C=1000, epsilon=0.3, gamma=0.001, kernel=linear;, score=-8.805 total time=   0.4s\n",
      "[CV 3/5] END C=1000, epsilon=0.3, gamma=0.001, kernel=linear;, score=-8.781 total time=   0.4s\n",
      "[CV 4/5] END C=1000, epsilon=0.3, gamma=0.001, kernel=linear;, score=-8.963 total time=   0.5s\n",
      "[CV 5/5] END C=1000, epsilon=0.3, gamma=0.001, kernel=linear;, score=-10.807 total time=   0.3s\n",
      "[CV 1/5] END C=1000, epsilon=0.3, gamma=0.0001, kernel=linear;, score=-10.733 total time=   0.4s\n",
      "[CV 2/5] END C=1000, epsilon=0.3, gamma=0.0001, kernel=linear;, score=-8.805 total time=   0.4s\n",
      "[CV 3/5] END C=1000, epsilon=0.3, gamma=0.0001, kernel=linear;, score=-8.781 total time=   0.4s\n",
      "[CV 4/5] END C=1000, epsilon=0.3, gamma=0.0001, kernel=linear;, score=-8.963 total time=   0.5s\n",
      "[CV 5/5] END C=1000, epsilon=0.3, gamma=0.0001, kernel=linear;, score=-10.807 total time=   0.4s\n"
     ]
    },
    {
     "data": {
      "text/plain": [
       "GridSearchCV(cv=5, estimator=SVR(),\n",
       "             param_grid={'C': [0.1, 1, 10, 100, 1000],\n",
       "                         'epsilon': [0.1, 0.2, 0.3],\n",
       "                         'gamma': [1, 0.1, 0.01, 0.001, 0.0001],\n",
       "                         'kernel': ['linear']},\n",
       "             scoring='neg_mean_squared_error', verbose=3)"
      ]
     },
     "execution_count": 24,
     "metadata": {},
     "output_type": "execute_result"
    }
   ],
   "source": [
    "grid.fit(X_train,y_train)"
   ]
  },
  {
   "cell_type": "code",
   "execution_count": 25,
   "id": "426eac46",
   "metadata": {},
   "outputs": [
    {
     "data": {
      "text/plain": [
       "{'C': 100, 'epsilon': 0.2, 'gamma': 1, 'kernel': 'linear'}"
      ]
     },
     "execution_count": 25,
     "metadata": {},
     "output_type": "execute_result"
    }
   ],
   "source": [
    "grid.best_params_"
   ]
  },
  {
   "cell_type": "code",
   "execution_count": 26,
   "id": "39d350c9",
   "metadata": {},
   "outputs": [],
   "source": [
    "#Prediction\n",
    "y_pred1 = grid.predict(X_test)"
   ]
  },
  {
   "cell_type": "code",
   "execution_count": 27,
   "id": "93417cc8",
   "metadata": {},
   "outputs": [
    {
     "name": "stdout",
     "output_type": "stream",
     "text": [
      "0.999330718674616\n"
     ]
    }
   ],
   "source": [
    "print(r2_score(y_test,y_pred1))"
   ]
  },
  {
   "cell_type": "code",
   "execution_count": null,
   "id": "5e075faf",
   "metadata": {},
   "outputs": [],
   "source": []
  }
 ],
 "metadata": {
  "kernelspec": {
   "display_name": "Python 3 (ipykernel)",
   "language": "python",
   "name": "python3"
  },
  "language_info": {
   "codemirror_mode": {
    "name": "ipython",
    "version": 3
   },
   "file_extension": ".py",
   "mimetype": "text/x-python",
   "name": "python",
   "nbconvert_exporter": "python",
   "pygments_lexer": "ipython3",
   "version": "3.9.13"
  }
 },
 "nbformat": 4,
 "nbformat_minor": 5
}
